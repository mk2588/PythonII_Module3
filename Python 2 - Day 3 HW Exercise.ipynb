{
 "cells": [
  {
   "cell_type": "markdown",
   "metadata": {},
   "source": [
    "# OOP - Polymorphism, & Abstraction"
   ]
  },
  {
   "cell_type": "markdown",
   "metadata": {},
   "source": [
    "## Exercise 1: \n",
    "Create an abstract class called Vehicle with \n",
    "- color, make, and year private attributes \n",
    "\n",
    "and abstract method called \n",
    "- get_info() which returns all information\n",
    "- honk() which returns a string of honking sound\n",
    "\n",
    "Create Car, Boat, and Bicycle class which is a child class of the Vehicle class.  Then, create an instance of each child class and call get_info() method to print out its information in a user friendly format. Add other methods as you like."
   ]
  },
  {
   "cell_type": "code",
   "execution_count": 25,
   "metadata": {},
   "outputs": [],
   "source": [
    "from abc import ABC, abstractmethod\n",
    "class Vehicle(ABC):\n",
    "    @abstractmethod\n",
    "    def get_info(self):\n",
    "        pass\n",
    "    @abstractmethod\n",
    "    def honk(self):\n",
    "        pass\n",
    "\n",
    "class Car(Vehicle):\n",
    "    def __init__(self, color, make, year):\n",
    "        self.__color = color\n",
    "        self.__make = make\n",
    "        self.__year = year\n",
    "    def get_info(self):\n",
    "        return f\"The {self.__make} car is from {self.__year} and is {self.__color}.\"\n",
    "    def honk(self):\n",
    "        return \"BEEP!\"\n",
    "\n",
    "class Boat(Vehicle):\n",
    "    def __init__(self, color, make, year):\n",
    "        self.__color = color\n",
    "        self.__make = make\n",
    "        self.__year = year\n",
    "    def get_info(self):\n",
    "        return f\"The {self.__make} boat is from {self.__year} and is {self.__color}.\"\n",
    "    def honk(self):\n",
    "        return \"BOOM!\"\n",
    "\n",
    "class Bicycle(Vehicle):\n",
    "    def __init__(self, color, make, year):\n",
    "        self.__color = color\n",
    "        self.__make = make\n",
    "        self.__year = year\n",
    "    def get_info(self):\n",
    "        return f\"The {self.__make} bicycle is from {self.__year} and is {self.__color}.\"\n",
    "    def honk(self):\n",
    "        return \"HONK!\""
   ]
  },
  {
   "cell_type": "code",
   "execution_count": 34,
   "metadata": {},
   "outputs": [
    {
     "name": "stdout",
     "output_type": "stream",
     "text": [
      "The BMW car is from 2016 and is red.\n",
      "BEEP!\n",
      "\n",
      "************ \n",
      "\n",
      "The Bombardier boat is from 2018 and is grey.\n",
      "BOOM!\n",
      "\n",
      "************ \n",
      "\n",
      "The Cannondale bicycle is from 2017 and is blue.\n",
      "HONK!\n",
      "\n",
      "************ \n",
      "\n"
     ]
    }
   ],
   "source": [
    "c1 = Car(\"red\", \"BMW\", 2016)\n",
    "bo1 = Boat(\"grey\", \"Bombardier\", 2018)\n",
    "bi1 = Bicycle(\"blue\", \"Cannondale\", 2017)\n",
    "\n",
    "my_vehicles = [c1, bo1, bi1]\n",
    "\n",
    "for vehicle in my_vehicles:\n",
    "    print(vehicle.get_info())\n",
    "    print(f\"{vehicle.honk()}\\n\")\n",
    "    print(\"*\" * 12, \"\\n\")"
   ]
  },
  {
   "cell_type": "code",
   "execution_count": null,
   "metadata": {},
   "outputs": [],
   "source": [
    "# can also put initiliazation and get methods in the abstract class"
   ]
  },
  {
   "cell_type": "markdown",
   "metadata": {},
   "source": [
    "## Exercise 2: \n",
    "Create an abstract class called Person with name and address attributes, and print_info() abstract method. \n",
    "1. Build an Employee class inherited from Person class that \n",
    "    - stores hired date and salary attributes \n",
    "    - print_info() method that will be used to print out all information about an employee\n",
    "    - a method to calculate employee's monthly pay where federal tax is 15%, MD tax is 4.5%, and a local tax is 3%.\n",
    "    \n",
    "2. Build a Customer class also inherited from Person class that\n",
    "    - stores balance attribute\n",
    "    - print_info() method that will be used to print out all information about a customer\n",
    "\n",
    "\n",
    "Build any method you need but apply encapsulation at all possible. Then, write a program to show your classes work with multiple employees and customers. \n",
    "\n",
    "CHALLENGE!!!\n",
    "Create an Address class and use it in Person class"
   ]
  },
  {
   "cell_type": "code",
   "execution_count": 71,
   "metadata": {},
   "outputs": [],
   "source": [
    "class Person(ABC):\n",
    "    @abstractmethod\n",
    "    def print_info(self):\n",
    "        pass\n",
    "\n",
    "class Employee(Person):\n",
    "    def __init__(self, name, address, hired_date, salary):\n",
    "        self.name = name\n",
    "        self.address = address\n",
    "        self.hired_date = hired_date\n",
    "        self.salary = salary\n",
    "    def print_info(self):\n",
    "        return f\"Name: {self.name}\\nAddress: {self.address}\\nHired Date: {self.hired_date}\\nSalary: ${self.salary}\"\n",
    "    def monthly_pay(self):\n",
    "        monthly = self.salary/12\n",
    "        fed_tax = 0.15 * monthly\n",
    "        md_tax = 0.045 * monthly\n",
    "        local_tax = 0.03 * monthly\n",
    "        return f\"Monthly Pay (after deductions): ${round(monthly - fed_tax - md_tax - local_tax, 2)}\"      \n",
    "\n",
    "class Customer(Person):\n",
    "    def __init__(self, name, address, balance):\n",
    "        self.name = name\n",
    "        self.address = address\n",
    "        self.balance = balance\n",
    "    def print_info(self):\n",
    "        return f\"Name: {self.name}\\nAddress: {self.address}\\nBalance: {self.balance}\""
   ]
  },
  {
   "cell_type": "code",
   "execution_count": 72,
   "metadata": {},
   "outputs": [
    {
     "name": "stdout",
     "output_type": "stream",
     "text": [
      "EMPLOYEE LIST\n",
      "Name: Jessica\n",
      "Address: VA\n",
      "Hired Date: 2010\n",
      "Salary: $65000\n",
      "Monthly Pay (after deductions): $4197.92\n",
      "\n",
      "\n",
      "Name: Alexa\n",
      "Address: MD\n",
      "Hired Date: 2000\n",
      "Salary: $85000\n",
      "Monthly Pay (after deductions): $5489.58\n",
      "\n",
      "\n",
      "CUSTOMER LIST\n",
      "Name: Andrew\n",
      "Address: NY\n",
      "Balance: 240\n",
      "\n",
      "\n",
      "Name: Sonia\n",
      "Address: VA\n",
      "Balance: 500\n",
      "\n",
      "\n"
     ]
    }
   ],
   "source": [
    "e1 = Employee(\"Jessica\", \"VA\", 2010, 65000)\n",
    "e2 = Employee(\"Alexa\", \"MD\", 2000, 85000)\n",
    "\n",
    "c1 = Customer(\"Andrew\", \"NY\", 240)\n",
    "c2 = Customer(\"Sonia\", \"VA\", 500)\n",
    "\n",
    "employee_list = [e1, e2]\n",
    "customer_list = [c1, c2]\n",
    "\n",
    "print(\"EMPLOYEE LIST\")\n",
    "for employee in employee_list:\n",
    "    print(employee.print_info())\n",
    "    print(employee.monthly_pay())\n",
    "    print(\"\\n\")\n",
    "\n",
    "print(\"CUSTOMER LIST\")\n",
    "for customer in customer_list:\n",
    "    print(customer.print_info())\n",
    "    print(\"\\n\")"
   ]
  },
  {
   "cell_type": "code",
   "execution_count": 73,
   "metadata": {},
   "outputs": [],
   "source": [
    "# ALTERNATIVE METHOD\n",
    "class Person(ABC):\n",
    "    @abstractmethod\n",
    "    def __init__(self, name, address):\n",
    "        self.name = name\n",
    "        self.address = address\n",
    "    \n",
    "    @abstractmethod\n",
    "    def print_info(self):\n",
    "        pass\n",
    "    def get_name(self):\n",
    "        return self.__address\n",
    "    def get_address(self):\n",
    "        return self.__name\n",
    "\n",
    "class Employee(Person):\n",
    "    def __init__(self, name, address, hired_date, salary):\n",
    "        super().__init__(name, address)\n",
    "        self.hired_date = hired_date\n",
    "        self.salary = salary\n",
    "    def print_info(self):\n",
    "        return f\"Name: {self.name}\\nAddress: {self.address}\\nHired Date: {self.hired_date}\\nSalary: ${self.salary}\"\n",
    "    def monthly_pay(self):\n",
    "        monthly = self.salary/12\n",
    "        fed_tax = 0.15 * monthly\n",
    "        md_tax = 0.045 * monthly\n",
    "        local_tax = 0.03 * monthly\n",
    "        return f\"Monthly Pay (after deductions): ${round(monthly - fed_tax - md_tax - local_tax, 2)}\"       \n",
    "\n",
    "class Customer(Person):\n",
    "    def __init__(self, name, address, balance):\n",
    "        super().__init__(name, address)\n",
    "        self.balance = balance\n",
    "    def print_info(self):\n",
    "        return f\"Name: {self.name}\\nAddress: {self.address}\\nBalance: {self.balance}\""
   ]
  },
  {
   "cell_type": "code",
   "execution_count": 74,
   "metadata": {},
   "outputs": [
    {
     "name": "stdout",
     "output_type": "stream",
     "text": [
      "Name: Jessica\n",
      "Address: VA\n",
      "Hired Date: 2010\n",
      "Salary: $65000\n",
      "Monthly Pay (after deductions): $4197.92\n"
     ]
    }
   ],
   "source": [
    "print(e1.print_info())\n",
    "print(e1.monthly_pay())"
   ]
  },
  {
   "cell_type": "code",
   "execution_count": null,
   "metadata": {},
   "outputs": [],
   "source": []
  },
  {
   "cell_type": "code",
   "execution_count": null,
   "metadata": {},
   "outputs": [],
   "source": []
  }
 ],
 "metadata": {
  "kernelspec": {
   "display_name": "Python 3",
   "language": "python",
   "name": "python3"
  },
  "language_info": {
   "codemirror_mode": {
    "name": "ipython",
    "version": 3
   },
   "file_extension": ".py",
   "mimetype": "text/x-python",
   "name": "python",
   "nbconvert_exporter": "python",
   "pygments_lexer": "ipython3",
   "version": "3.8.8"
  }
 },
 "nbformat": 4,
 "nbformat_minor": 4
}
